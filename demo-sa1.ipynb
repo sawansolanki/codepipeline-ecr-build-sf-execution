{
 "cells": [
  {
   "cell_type": "code",
   "execution_count": null,
   "id": "2779feb6-a084-497b-991a-cbf526b9797c",
   "metadata": {},
   "outputs": [],
   "source": [
    "import boto3\n",
    "from botocore.exceptions import ClientError\n",
    "\n",
    "#\n",
    "# Option 1: S3 client list of buckets with name and is creation date\n",
    "#\n",
    "s3 = boto3.client('s3')\n",
    "response = s3.list_buckets()['Buckets']\n",
    "for bucket in response:\n",
    "    print('Bucket name: {}, Created on: {}'.format(bucket['Name'], bucket['CreationDate']))"
   ]
  },
  {
   "cell_type": "code",
   "execution_count": null,
   "id": "c6b06bc7-8cbe-4398-9727-acc08d39ccf2",
   "metadata": {},
   "outputs": [],
   "source": []
  }
 ],
 "metadata": {
  "kernelspec": {
   "display_name": "",
   "name": ""
  },
  "language_info": {
   "name": ""
  }
 },
 "nbformat": 4,
 "nbformat_minor": 5
}
